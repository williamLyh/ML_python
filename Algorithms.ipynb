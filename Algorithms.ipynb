{
 "cells": [
  {
   "cell_type": "markdown",
   "metadata": {},
   "source": [
    "Algorithms\n",
    "====\n",
    "Algorithms are messy. Everything is algorithm, so practice is the best way to learn/master algorithms.<br>\n",
    "Leetcode, hackerrank <br>\n",
    "However, there are still a few topics that are important:<br>\n",
    "## Sorting\n",
    "----\n",
    "## Dynamic Programming\n",
    "----\n",
    "## Searching\n",
    "----\n",
    "## String manipulating\n",
    "----\n",
    "## Hashing \n",
    "----"
   ]
  },
  {
   "cell_type": "markdown",
   "metadata": {},
   "source": [
    "Statistical Algorithms\n",
    "====\n",
    "Linear regression\n",
    "----"
   ]
  },
  {
   "cell_type": "code",
   "execution_count": null,
   "metadata": {},
   "outputs": [],
   "source": []
  }
 ],
 "metadata": {
  "kernelspec": {
   "display_name": "Python 3",
   "language": "python",
   "name": "python3"
  },
  "language_info": {
   "codemirror_mode": {
    "name": "ipython",
    "version": 3
   },
   "file_extension": ".py",
   "mimetype": "text/x-python",
   "name": "python",
   "nbconvert_exporter": "python",
   "pygments_lexer": "ipython3",
   "version": "3.6.6"
  }
 },
 "nbformat": 4,
 "nbformat_minor": 2
}
