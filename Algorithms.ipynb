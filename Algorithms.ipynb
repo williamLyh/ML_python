{
 "cells": [
  {
   "cell_type": "markdown",
   "metadata": {},
   "source": [
    "Algorithms\n",
    "====\n",
    "Algorithms are messy. Everything is algorithm, so practice is the best way to learn/master algorithms.<br>\n",
    "Leetcode, hackerrank <br>\n",
    "However, there are still a few topics that are important:<br>\n",
    "## Sorting\n",
    "----\n",
    "1. Simple sorting： both algorithms are efficient on small data. Insertion sort has fewer comparisons, while selection sort has fewer writes.<br>\n",
    "    1.1 Insertion sort<br>\n",
    "    1.2 Selection sort<br>\n",
    "2. Efficient sort<br>\n",
    "    2.1 Merge sort<br>\n",
    "    2.2 Heap sort<br>\n",
    "    2.3 Quick sort<br>\n",
    "3. Bubble sort & some variants<br>\n",
    "\n",
    "\n",
    "## Dynamic Programming\n",
    "----\n",
    "A very good example: Evaluating Fibonacci number. What are their time complexities?<br>\n",
    "1. recursive programming:<br>\n",
    "2. Dynamic Programming:<br>\n",
    "3. Analytical evaluating:<br>\n",
    "\n",
    "## Searching\n",
    "----\n",
    "## String manipulating\n",
    "----\n",
    "## Hashing \n",
    "----\n",
    "Hash function.<br>\n",
    "Collision resolution:\n",
    "    1. seperate chaining: Linked list in each buscket.\n",
    "    2. Open addressing: if address occupied then check availiability of next address."
   ]
  },
  {
   "cell_type": "markdown",
   "metadata": {},
   "source": [
    "Statistical Algorithms\n",
    "====\n",
    "Linear regression\n",
    "----"
   ]
  },
  {
   "cell_type": "code",
   "execution_count": null,
   "metadata": {},
   "outputs": [],
   "source": []
  }
 ],
 "metadata": {
  "kernelspec": {
   "display_name": "Python 3",
   "language": "python",
   "name": "python3"
  },
  "language_info": {
   "codemirror_mode": {
    "name": "ipython",
    "version": 3
   },
   "file_extension": ".py",
   "mimetype": "text/x-python",
   "name": "python",
   "nbconvert_exporter": "python",
   "pygments_lexer": "ipython3",
   "version": "3.6.5"
  }
 },
 "nbformat": 4,
 "nbformat_minor": 2
}
