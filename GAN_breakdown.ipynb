{
 "cells": [
  {
   "cell_type": "markdown",
   "metadata": {},
   "source": [
    "# Generative Adversarial Networks\n",
    "\n",
    "- Basic Concepts/structures and objectives for GAN: https://medium.com/@jonathan_hui/gan-whats-generative-adversarial-networks-and-its-application-f39ed278ef09\n",
    "- GAN images example in Pytorch: https://pytorch.org/tutorials/beginner/dcgan_faces_tutorial.html\n",
    "- Original paper 2014: https://papers.nips.cc/paper/5423-generative-adversarial-nets.pdf\n",
    "\n",
    "GAN is a framework for teaching a DL model to capture the training data's distributiion so we can generate new data from that same distribution. GANs are made of two distinct ntes, a generator and a discriminator. The generator is to spawn 'fake' images that look like the training images. The discriminator is to look at an image and output the probability that it's a real iamge. During training, the generator is constantly trying to outsmart the discriminator. The equilibrium is when the generator is generating perfect fakes and the discriminator is left to alwyas guess at 50% confidence.\n",
    "\n",
    "Let x be image data. D(x) is the discriminator probability output. High for real training data and low for generated fake data. Let z be a latent space vector sampled from a standard normal distribution. G(z) is the generator that map z to data-space.\n",
    "\n",
    "so D(G(z)) is the probability that output of the generator G is a real image. D and G play a minimax game in which D tries to maximize the probability it correctly classifies reals and fakes $(\\log D(x))$ and G tries to minimize the probability that D will predict its outputs are fake $(\\log(1-D(G(x))))$. The GAN loss function:\n",
    "\n",
    "$$\n",
    "\\begin{equation}\n",
    "\\min_G \\max_D V(D,G) = E_{x\\sim p_{data}(x)}[\\log D(x)] + E_{z\\sim p_z(z)}[\\log (1-D(G(x))))]\n",
    "\\end{equation}\n",
    "$$\n",
    "\n",
    "The solution in theory is where $p_g = p_{data}$"
   ]
  },
  {
   "cell_type": "code",
   "execution_count": null,
   "metadata": {},
   "outputs": [],
   "source": []
  }
 ],
 "metadata": {
  "kernelspec": {
   "display_name": "Python 3",
   "language": "python",
   "name": "python3"
  },
  "language_info": {
   "codemirror_mode": {
    "name": "ipython",
    "version": 3
   },
   "file_extension": ".py",
   "mimetype": "text/x-python",
   "name": "python",
   "nbconvert_exporter": "python",
   "pygments_lexer": "ipython3",
   "version": "3.6.7"
  }
 },
 "nbformat": 4,
 "nbformat_minor": 2
}
