{
 "cells": [
  {
   "cell_type": "markdown",
   "metadata": {},
   "source": [
    "# Gaussian Process\n",
    "\n",
    "We have been inferring parameters of function $p(\\theta|D)$ rather than the function itself $p(f|D)$. For given input $x_i$ and output $y_i$, we assume there is $y_i = f(x_i )$. The optimal approach is to infer the $p(f|X,y)$ and use this to make predicitons:\n",
    "\n",
    "$$\n",
    "\\begin{equation}\n",
    "p(y_*| x_*,X,y) = \\int p(y_*|f,x_*)p(f|X,y) df\n",
    "\\end{equation}\n",
    "$$\n",
    "\n",
    "Gaussian Process provides an approach to do this. GP defines a prior over functions, which can be converted into a posterior over functions once we have seen some data. Although it's hard to represent a distribution over a function, we can define a distribution over the function's values at a finite, but arbitrary set of points.\n",
    "\n",
    "GP gives well-calibrated probabilistic outputs, while some kernel methods like LIVM, RVM and SVM, do not.\n",
    "\n",
    "- ## Regression\n",
    "Let the prior on the regression function be a GP:\n",
    "\n",
    "$$\n",
    "\\begin{equation}\n",
    "f(x) \\sim GP(m(x),\\kappa(x,x'))\n",
    "\\end{equation}\n",
    "$$\n",
    "\n",
    "where,\n",
    "\n",
    "$$\n",
    "\\begin{align}\n",
    "m(x) &= E[f(x)] \\\\\n",
    "\\kappa(x,x') &= E[(f(x)-m(x))(f(x)-m(x'))^T] \n",
    "\\end{align}\n",
    "$$\n",
    "\n",
    "For any finite set of points:\n",
    "\n",
    "$$\n",
    "\\begin{equation}\n",
    "p(\\mathbf{f|X}) = N(\\mathbf{f|\\mu,K})\n",
    "\\end{equation}\n",
    "$$\n",
    "\n",
    "The mean function is usually set to be 0, as the GP is flexible enough to model the mean arbitrarily well.\n"
   ]
  },
  {
   "cell_type": "markdown",
   "metadata": {},
   "source": [
    "### Predictions using noise-free observation\n",
    "\n",
    "When we assume the observations are noiseless, we expect, for train data $\\mathbf{x}$, $f(\\mathbf{x})$ has no uncertainty. By definition of the GP, the joint distribution has following form:\n",
    "\n",
    "$$\n",
    "\\begin{equation}\n",
    "(\\begin{bmatrix}f \\\\ f_*\n",
    "\\end{bmatrix}\n",
    ")\n",
    "\\end{equation}\n",
    "$$"
   ]
  },
  {
   "cell_type": "code",
   "execution_count": null,
   "metadata": {},
   "outputs": [],
   "source": []
  }
 ],
 "metadata": {
  "kernelspec": {
   "display_name": "Python 3",
   "language": "python",
   "name": "python3"
  },
  "language_info": {
   "codemirror_mode": {
    "name": "ipython",
    "version": 3
   },
   "file_extension": ".py",
   "mimetype": "text/x-python",
   "name": "python",
   "nbconvert_exporter": "python",
   "pygments_lexer": "ipython3",
   "version": "3.6.5"
  }
 },
 "nbformat": 4,
 "nbformat_minor": 2
}
