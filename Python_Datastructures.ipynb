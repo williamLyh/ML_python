{
 "cells": [
  {
   "cell_type": "markdown",
   "metadata": {},
   "source": [
    "Markdown cheat sheet for William: https://www.ibm.com/support/knowledgecenter/SSQNUZ_current/com.ibm.icpdata.doc/dsx/markd-jupyter.html"
   ]
  },
  {
   "cell_type": "markdown",
   "metadata": {},
   "source": [
    "In Python, DataStructures are simplified and well organized. \n",
    "=======\n",
    "When you have problem, always look for help: <br>\n",
    "me first and then <br>\n",
    "Documentation: https://docs.python.org/3/tutorial/datastructures.html <br>\n",
    "For Python DataStructures, notice time complexities cheat sheet of their methods:https://wiki.python.org/moin/TimeComplexity\n",
    "\n",
    "## List\n",
    "-----\n",
    "1. List indexing and basic operations <br>\n",
    "\n",
    "2. As Stacks<br>\n",
    "      Last in first out\n",
    "      <br><br>\n",
    "3. As Queues<br>\n",
    "      Last in Last out<br>\n",
    "      List is not efficient when pop/insert at beginning of the list, due to how python implements List.<br>\n",
    "      Therefore, we sometimes use deque(double ended queue)\n",
    "      <br><br>\n",
    "4. List Comprehensions\n",
    "\n",
    "## Tuple\n",
    "----\n",
    "Difference between Tuple & List:<br>\n",
    "1. Tuples are immutable. <br>\n",
    "2. They have identical accessing speed.<br>\n",
    "3. Tuple has faster assigning speed.<br>\n",
    "4. List is not hashable, which means only tuple can be used as dictionary's key.<br>\n",
    "\n",
    "## Set\n",
    "----\n",
    "Set is unordered collection of unique elements. It's hashed, so member accessing is fast.\n",
    "\n",
    "## Dictionary\n",
    "----\n",
    "Unordered container. Unique key. Implemented by Hashing. \n",
    "\n",
    "## looping things (map,zip)\n",
    "----\n"
   ]
  },
  {
   "cell_type": "code",
   "execution_count": 5,
   "metadata": {},
   "outputs": [
    {
     "name": "stdout",
     "output_type": "stream",
     "text": [
      "3\n",
      "[1, 2, 3, 4, 5, 6]\n",
      "['hi', 'hi', 'hi', 'hi']\n",
      "[2, 3]\n",
      "[1, 2]\n"
     ]
    }
   ],
   "source": [
    "# List and tuple indexing & operation\n",
    "a = [1,2,3]\n",
    "b = [4,5,6]\n",
    "print(len(a))\n",
    "print(a+b)\n",
    "print(['hi']*4)\n",
    "\n",
    "print(a[1:])\n",
    "print(a[:-1])\n"
   ]
  },
  {
   "cell_type": "code",
   "execution_count": 1,
   "metadata": {},
   "outputs": [
    {
     "name": "stdout",
     "output_type": "stream",
     "text": [
      "[3, 4, 5, 6, 7]\n"
     ]
    },
    {
     "data": {
      "text/plain": [
       "7"
      ]
     },
     "execution_count": 1,
     "metadata": {},
     "output_type": "execute_result"
    }
   ],
   "source": [
    "# List as stack\n",
    "stack = [3, 4, 5]\n",
    "stack.append(6)\n",
    "stack.append(7)\n",
    "print(stack)\n",
    "stack.pop()\n",
    "# List as queue"
   ]
  },
  {
   "cell_type": "code",
   "execution_count": 15,
   "metadata": {},
   "outputs": [
    {
     "name": "stdout",
     "output_type": "stream",
     "text": [
      "{'b', 'c', 'a'}\n"
     ]
    }
   ],
   "source": [
    "# Set on string\n",
    "a = set('abcabcabcbca')\n",
    "print(a)"
   ]
  },
  {
   "cell_type": "markdown",
   "metadata": {},
   "source": [
    "Python data structures packages\n",
    "====\n",
    "Documentation:https://docs.python.org/2/library/collections.html#module-collections\n",
    "\n",
    "\n",
    "## deque\n",
    "---\n",
    "## Counter\n",
    "----\n",
    "## OrderedDict\n",
    "----\n"
   ]
  },
  {
   "cell_type": "markdown",
   "metadata": {},
   "source": [
    "High level Data Structures\n",
    "====\n",
    "For this part, basic concepts behind data structures are language-invariant.**The key of understanding differences between data structure is their time/space complexities** <br><br>\n",
    "Very useful Summary: https://www.geeksforgeeks.org/data-structures/#AdvancedDataStructure <br>\n",
    "\n",
    "cheatsheet:http://bigocheatsheet.com/\n"
   ]
  },
  {
   "cell_type": "code",
   "execution_count": null,
   "metadata": {},
   "outputs": [],
   "source": []
  },
  {
   "cell_type": "markdown",
   "metadata": {},
   "source": [
    "Very Useful Python packages you should know\n",
    "====\n",
    "## numpy for day-to-day math\n",
    "----\n",
    "\n",
    "## pandas DataFrame\n",
    "----\n",
    "\n",
    "## Matplotlib for ploting\n",
    "----\n",
    "\n",
    "## Pytorch, Keras and TensorFlow for ML\n",
    "----\n"
   ]
  },
  {
   "cell_type": "code",
   "execution_count": null,
   "metadata": {},
   "outputs": [],
   "source": []
  }
 ],
 "metadata": {
  "kernelspec": {
   "display_name": "Python 3",
   "language": "python",
   "name": "python3"
  },
  "language_info": {
   "codemirror_mode": {
    "name": "ipython",
    "version": 3
   },
   "file_extension": ".py",
   "mimetype": "text/x-python",
   "name": "python",
   "nbconvert_exporter": "python",
   "pygments_lexer": "ipython3",
   "version": "3.6.6"
  }
 },
 "nbformat": 4,
 "nbformat_minor": 2
}
