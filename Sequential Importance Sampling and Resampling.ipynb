{
 "cells": [
  {
   "cell_type": "markdown",
   "metadata": {},
   "source": [
    "Monte Carlo theory: Reference book:https://statweb.stanford.edu/~owen/mc/\n",
    "# Importance Sampling\n",
    "\n",
    "Our target is to find $\\mu$, where $\\mu = E[f(x)] = \\int_D f(x)p(x) dx$. Simple Monte Carlo method suggests:\n",
    "\\begin{equation}\n",
    "\\mu \\approx \\frac{1}{N} \\sum_{i=1}^N f(x^i)  \\qquad x^i \\sim p(x)\n",
    "\\end{equation}\n",
    "However, simple Monte Carlo method may fail when f(x) are nearly zero outside region A and $P(x\\in A)$ is small. Intuitively we would like to have more samples from the important region A.\n",
    "\n",
    "Therefore, we use Importance Sampling:\n",
    "$$\n",
    "\\begin{align}\n",
    "\\mu & = \\int_D f(x) \\frac{p(x)}{q(x)}q(x) \\quad dx = E_q\\Big[f(X)\\frac{p(X)}{q(X)} \\Big] \\\\\n",
    "& \\approx \\frac{1}{N} \\sum_{i=1}^N f(X_i)\\frac{p(X_i)}{q(X_i)} \\quad X_i \\sim q\n",
    "\\end{align}\n",
    "$$\n",
    "Assume we can compute f(x), to use the above equation, we have to be able to compute $p(x)/q(x)$. Details about the estimate variance and how to choose $q(x)$ were discussed in details in the reference book.\n",
    "\n",
    "## self-normalized importance sampling\n",
    "Sometimes we can only have unnormalized p(x) and q(x), therefore we use:\n",
    "\n",
    "\\begin{equation}\n",
    "\\hat\\mu_q = \\frac{\\sum_{i=1}^N f(X_i)w(X_i)}{\\sum_{i=1}^N w(X_i)} \\quad X_i \\sim q\n",
    "\\end{equation}\n",
    "\n",
    "### A short example of Importance Sampling:\n",
    "Say we want have a chopped cosine function:\n",
    "\n",
    "\\begin{equation}\n",
    "p(x) = \\frac{1}{Z}\\cos x \\quad x\\in[0,1]\n",
    "\\end{equation}\n",
    "\n",
    "Now we would like to know the average of this distribution $E[x]=\\int_0^1 xp(x)$. It's hard to sample from $p(x)$, so we sample from $q(x)=Uni(1) \\quad x\\in[0,1]$. Therefore, the self-normalized importance sampling give:\n",
    "\n",
    "\\begin{equation}\n",
    "E[x] \\approx \\frac{\\sum_{i=1}^N x^i w^i}{\\sum_{i=1}^N w^i} = \\frac{\\sum_{i=1}^N x^i \\cos x^i}{\\sum_{i=1}^N \\cos x^i} \\quad x^i \\sim q(x)\n",
    "\\end{equation}"
   ]
  },
  {
   "cell_type": "code",
   "execution_count": 28,
   "metadata": {},
   "outputs": [
    {
     "name": "stdout",
     "output_type": "stream",
     "text": [
      "Importance sampling give estimates:  0.44365164074011737\n",
      "Exact solution calculated by direct integration: 0.4536975101562095\n"
     ]
    }
   ],
   "source": [
    "##### A short example of Importance Sampling\n",
    "%matplotlib inline\n",
    "import numpy as np\n",
    "import matplotlib.pyplot as plt\n",
    "x = np.random.rand(1000)\n",
    "Ex = np.sum(x*np.cos(x))/np.sum(np.cos(x))\n",
    "print('Importance sampling give estimates: ',Ex)\n",
    "print('Exact solution calculated by direct integration:',(np.sin(1) + np.cos(1)-np.cos(0))/np.sin(1))"
   ]
  },
  {
   "cell_type": "markdown",
   "metadata": {},
   "source": []
  }
 ],
 "metadata": {
  "kernelspec": {
   "display_name": "Python 3",
   "language": "python",
   "name": "python3"
  },
  "language_info": {
   "codemirror_mode": {
    "name": "ipython",
    "version": 3
   },
   "file_extension": ".py",
   "mimetype": "text/x-python",
   "name": "python",
   "nbconvert_exporter": "python",
   "pygments_lexer": "ipython3",
   "version": "3.6.7"
  }
 },
 "nbformat": 4,
 "nbformat_minor": 2
}
