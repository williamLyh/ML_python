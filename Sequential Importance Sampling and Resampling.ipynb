{
 "cells": [
  {
   "cell_type": "markdown",
   "metadata": {},
   "source": [
    "Monte Carlo theory: Reference book:https://statweb.stanford.edu/~owen/mc/\n",
    "# Importance Sampling\n",
    "\n",
    "Our target is to find $\\mu$, where $\\mu = E[f(x)] = \\int_D f(x)p(x) dx$. Simple Monte Carlo method suggests:\n",
    "\\begin{equation}\n",
    "\\mu \\approx \\frac{1}{N} \\sum_{i=1}^N f(x^i)  \\qquad x^i \\sim p(x)\n",
    "\\end{equation}\n",
    "However, simple Monte Carlo method may fail when f(x) are nearly zero outside region A and $P(x\\in A)$ is small. Intuitively we would like to have more samples from the important region A.\n",
    "\n",
    "Therefore, we use Importance Sampling:\n",
    "\\begin{align}\n",
    "\\mu & = \\int_D f(x) \\frac{p(x)}{q(x)}q(x) \\quad dx = E_q\\Big[f(X)\\frac{p(X)}{q(X)}\\Big] \\\\\n",
    "& \\approx \\frac{1}{N} \\sum_{i=1}^N f(X_i)\\frac{p(X_i)}{q(X_i)} \\quad X_i \\sim q\n",
    "\\end{align}\n",
    "Assume we can compute f(x), to use the above equation, we have to be able to compute $p(x)/q(x)$. Details about the estimate variance and how to choose $q(x)$ were discussed in details in the reference book.\n",
    "\n",
    "## self-normalized importance sampling\n",
    "Sometimes we can only have unnormalized p(x) and q(x), therefore we use:\n",
    "\\begin{equation}\n",
    "\\hat{\\mu}_q = \\frac{\\sum_{i=1}^N f(X_i)w(X_i)}{\\sum_{i=1}^N w(X_i)} \\quad X_i \\sim q\n",
    "\\end{equation}"
   ]
  },
  {
   "cell_type": "code",
   "execution_count": null,
   "metadata": {},
   "outputs": [],
   "source": []
  }
 ],
 "metadata": {
  "kernelspec": {
   "display_name": "Python 3",
   "language": "python",
   "name": "python3"
  },
  "language_info": {
   "codemirror_mode": {
    "name": "ipython",
    "version": 3
   },
   "file_extension": ".py",
   "mimetype": "text/x-python",
   "name": "python",
   "nbconvert_exporter": "python",
   "pygments_lexer": "ipython3",
   "version": "3.6.5"
  }
 },
 "nbformat": 4,
 "nbformat_minor": 2
}
