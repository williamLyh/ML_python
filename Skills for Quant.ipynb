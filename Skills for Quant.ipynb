{
 "cells": [
  {
   "cell_type": "markdown",
   "metadata": {},
   "source": [
    "Skills for Quant\n",
    "====\n",
    "\n",
    "Software Development\n",
    "------\n",
    "Object-oriented Concept; C++, Python\n",
    "\n",
    "\n",
    "Statistical Machine Learning and Deep Learning\n",
    "------\n",
    "Basic ML concepts, Bayesian Inference, DL<br>\n",
    "DBN, LSTM, MLP, RBM, ReLu, CNN<br>\n",
    "1. Limit Order Book Modelling\n",
    "    \n",
    "\n",
    "2. Price-based Classification\n",
    "\n",
    "3. Text-baed Classification\n",
    "\n",
    "4. Volatility Prediction\n",
    "\n",
    "5. Protfolio Optimization\n",
    "\n",
    "\n",
    "Stochastic Calculus & Financial Engineering\n",
    "----\n",
    "\n",
    "\n",
    "Econometrics, Time Series Analysis and Frequentist Statistics\n",
    "----\n"
   ]
  },
  {
   "cell_type": "code",
   "execution_count": null,
   "metadata": {},
   "outputs": [],
   "source": []
  }
 ],
 "metadata": {
  "kernelspec": {
   "display_name": "Python 3",
   "language": "python",
   "name": "python3"
  },
  "language_info": {
   "codemirror_mode": {
    "name": "ipython",
    "version": 3
   },
   "file_extension": ".py",
   "mimetype": "text/x-python",
   "name": "python",
   "nbconvert_exporter": "python",
   "pygments_lexer": "ipython3",
   "version": "3.6.5"
  }
 },
 "nbformat": 4,
 "nbformat_minor": 2
}
