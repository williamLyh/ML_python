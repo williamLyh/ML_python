{
 "cells": [
  {
   "cell_type": "markdown",
   "metadata": {},
   "source": [
    "scikit-learn\n",
    "====\n",
    "Tools for data analysis. <br>\n",
    "Documents:https://scikit-learn.org/stable/\n",
    "\n",
    "## Classfication\n",
    "1. SVM\n",
    "2. Nearest neighbour\n",
    "3. Random Forest\n",
    "\n",
    "## Regression\n",
    "1. SVR \n",
    "2. Ridge regression\n",
    "3. Lasso\n",
    "\n",
    "## Clustering\n",
    "1. k-Meanings\n",
    "2. spectrul clustering \n",
    "3. mean-shift\n",
    "\n",
    "## Dimensionality reduction\n",
    "1. PCA\n",
    "2. feature selection\n",
    "3. non-negative matrix factorization\n",
    "\n",
    "## Model Selection\n",
    "\n",
    "## Preprocessing\n",
    "1. pre-processing\n",
    "2. feature selection\n"
   ]
  },
  {
   "cell_type": "code",
   "execution_count": null,
   "metadata": {},
   "outputs": [],
   "source": []
  }
 ],
 "metadata": {
  "kernelspec": {
   "display_name": "Python 3",
   "language": "python",
   "name": "python3"
  },
  "language_info": {
   "codemirror_mode": {
    "name": "ipython",
    "version": 3
   },
   "file_extension": ".py",
   "mimetype": "text/x-python",
   "name": "python",
   "nbconvert_exporter": "python",
   "pygments_lexer": "ipython3",
   "version": "3.6.5"
  }
 },
 "nbformat": 4,
 "nbformat_minor": 2
}
