{
 "cells": [
  {
   "cell_type": "markdown",
   "metadata": {},
   "source": [
    "scikit-learn\n",
    "====\n",
    "Tools for data analysis. <br>\n",
    "Documents:https://scikit-learn.org/stable/\n",
    "\n",
    "## Classfication\n",
    "1. SVM\n",
    "2. Nearest neighbour\n",
    "3. Random Forest\n",
    "\n",
    "## Regression\n",
    "1. SVR \n",
    "2. Ridge regression\n",
    "3. Lasso\n",
    "\n",
    "## Clustering\n",
    "1. k-Meanings\n",
    "2. spectrul clustering \n",
    "3. mean-shift\n",
    "\n",
    "## Dimensionality reduction\n",
    "1. PCA\n",
    "2. feature selection\n",
    "3. non-negative matrix factorization\n",
    "\n",
    "## Model Selection\n",
    "\n",
    "## Preprocessing\n",
    "1. pre-processing\n",
    "2. feature selection\n"
   ]
  },
  {
   "cell_type": "markdown",
   "metadata": {},
   "source": [
    "Classification: SVM\n",
    "1. SVC & NuSVC\n",
    "2. LinearSVB"
   ]
  },
  {
   "cell_type": "code",
   "execution_count": 24,
   "metadata": {},
   "outputs": [
    {
     "name": "stdout",
     "output_type": "stream",
     "text": [
      "SVC(C=1.0, cache_size=200, class_weight=None, coef0=0.0,\n",
      "  decision_function_shape='ovr', degree=3, gamma='auto', kernel='rbf',\n",
      "  max_iter=-1, probability=False, random_state=None, shrinking=True,\n",
      "  tol=0.001, verbose=False)\n"
     ]
    },
    {
     "data": {
      "text/plain": [
       "array([[0., 0.],\n",
       "       [1., 1.]])"
      ]
     },
     "execution_count": 24,
     "metadata": {},
     "output_type": "execute_result"
    }
   ],
   "source": [
    "import numpy as np\n",
    "from sklearn import svm\n",
    "# Two Classes example\n",
    "X = np.array([[0, 0], [1, 1]])\n",
    "y = np.array([0, 1])\n",
    "clf = svm.SVC(gamma='auto')\n",
    "print(clf.fit(X, y))\n",
    "clf.predict([[2,2]])\n",
    "clf.support_vectors_\n"
   ]
  },
  {
   "cell_type": "code",
   "execution_count": 29,
   "metadata": {},
   "outputs": [
    {
     "name": "stdout",
     "output_type": "stream",
     "text": [
      "SVC(C=1.0, cache_size=200, class_weight=None, coef0=0.0,\n",
      "  decision_function_shape='ovo', degree=3, gamma='auto', kernel='rbf',\n",
      "  max_iter=-1, probability=False, random_state=None, shrinking=True,\n",
      "  tol=0.001, verbose=False)\n"
     ]
    },
    {
     "data": {
      "text/plain": [
       "(1, 6)"
      ]
     },
     "execution_count": 29,
     "metadata": {},
     "output_type": "execute_result"
    }
   ],
   "source": [
    "# Multi-class classification\n",
    "# SVC and NuSVC implement multi-class classification in \"one against one\".\n",
    "X = [[0], [1], [2], [3]]\n",
    "Y = [0, 1, 2, 3]\n",
    "clf = svm.SVC(gamma='auto', decision_function_shape='ovo')\n",
    "print(clf.fit(X, Y))\n",
    "dec = clf.decision_function([[1]])   # there are 4*3/2 classifiers\n",
    "clf.decision_function_shape = \"ovr\"  # we can aggregrate them into \"one against rest\", therefore 4 classifiers\n",
    "\n",
    "# LinearSVC implements in \"one against rest\" method"
   ]
  },
  {
   "cell_type": "code",
   "execution_count": null,
   "metadata": {},
   "outputs": [],
   "source": []
  }
 ],
 "metadata": {
  "kernelspec": {
   "display_name": "Python 3",
   "language": "python",
   "name": "python3"
  },
  "language_info": {
   "codemirror_mode": {
    "name": "ipython",
    "version": 3
   },
   "file_extension": ".py",
   "mimetype": "text/x-python",
   "name": "python",
   "nbconvert_exporter": "python",
   "pygments_lexer": "ipython3",
   "version": "3.6.5"
  }
 },
 "nbformat": 4,
 "nbformat_minor": 2
}
