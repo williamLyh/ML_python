{
 "cells": [
  {
   "cell_type": "markdown",
   "metadata": {},
   "source": [
    "# scikit-learn\n",
    "Documentation:https://scikit-learn.org/stable/\n",
    "\n",
    "scikit-learn aka sklearn, provides a variety of handy ml methods and datasets. \n",
    "\n",
    "- ### Classfication\n",
    "- ### Regression\n",
    "- ### Clustering\n",
    "- ### Dimensionality reduction\n",
    "- ### Model Selection\n",
    "- ### Preprocessing\n",
    "------\n",
    "## Regression\n",
    "1. SVR \n",
    "2. Ridge regression\n",
    "3. Lasso\n",
    "\n",
    "## Clustering\n",
    "1. k-Meanings\n",
    "2. spectrul clustering \n",
    "3. mean-shift\n",
    "\n",
    "## Dimensionality reduction\n",
    "1. PCA\n",
    "2. feature selection\n",
    "3. non-negative matrix factorization\n",
    "\n",
    "## Model Selection\n",
    "\n",
    "## Preprocessing\n",
    "1. pre-processing\n",
    "2. feature selection\n"
   ]
  },
  {
   "cell_type": "markdown",
   "metadata": {},
   "source": [
    "## Classification: \n",
    "Example that compare different classifiers:\n",
    "![alt text](https://scikit-learn.org/stable/_images/sphx_glr_plot_classifier_comparison_001.png)\n",
    "For all classification examples below, we will use the breast cancer dataset"
   ]
  },
  {
   "cell_type": "code",
   "execution_count": 48,
   "metadata": {},
   "outputs": [
    {
     "name": "stdout",
     "output_type": "stream",
     "text": [
      "Number of instances:569 \n",
      "Number of features:30\n",
      "Note the two classes are not balanced, their ratio is 212:357\n"
     ]
    }
   ],
   "source": [
    "import numpy as np\n",
    "from sklearn.datasets import load_breast_cancer\n",
    "X,y = load_breast_cancer(return_X_y = True)\n",
    "print('Number of instances:{} \\nNumber of features:{}'.format(X.shape[0],X.shape[1]))\n",
    "print('Note the two classes are not balanced, their ratio is {}:{}'.format(np.unique(y,return_counts=True)[1][0],np.unique(y,return_counts=True)[1][1]))\n",
    "# train/test partition\n",
    "msk = np.random.rand(len(X))<0.8\n",
    "X_train = X[msk]\n",
    "X_test = X[~msk]\n",
    "y_train = y[msk]\n",
    "y_test = y[~msk]"
   ]
  },
  {
   "cell_type": "markdown",
   "metadata": {},
   "source": [
    "------\n",
    "### Classifier: SVM"
   ]
  },
  {
   "cell_type": "code",
   "execution_count": 49,
   "metadata": {},
   "outputs": [
    {
     "data": {
      "text/plain": [
       "0.6982758620689655"
      ]
     },
     "execution_count": 49,
     "metadata": {},
     "output_type": "execute_result"
    }
   ],
   "source": [
    "from sklearn import svm\n",
    "clf = svm.SVC(gamma='auto').fit(X_train,y_train)\n",
    "clf.score(X_test,y_test)\n"
   ]
  },
  {
   "cell_type": "markdown",
   "metadata": {},
   "source": [
    "------\n",
    "### Classifier: Random Forest "
   ]
  },
  {
   "cell_type": "code",
   "execution_count": 59,
   "metadata": {},
   "outputs": [
    {
     "data": {
      "text/plain": [
       "0.9396551724137931"
      ]
     },
     "execution_count": 59,
     "metadata": {},
     "output_type": "execute_result"
    }
   ],
   "source": [
    "from sklearn.ensemble import RandomForestClassifier\n",
    "\n",
    "clf = RandomForestClassifier(n_estimators = 50).fit(X_train,y_train)\n",
    "clf.score(X_test,y_test)"
   ]
  },
  {
   "cell_type": "markdown",
   "metadata": {},
   "source": [
    "------\n",
    "### Classifier: Gaussian Process\n",
    "Gaussian Processes for Machine Learning (GPML) by Rasmussen and Williams, FYI, they are two Cambridge fellows now. :http://www.gaussianprocess.org/gpml/chapters/RW.pdf\n"
   ]
  },
  {
   "cell_type": "code",
   "execution_count": 56,
   "metadata": {},
   "outputs": [
    {
     "data": {
      "text/plain": [
       "0.9482758620689655"
      ]
     },
     "execution_count": 56,
     "metadata": {},
     "output_type": "execute_result"
    }
   ],
   "source": [
    "from sklearn.gaussian_process import GaussianProcessClassifier\n",
    "from sklearn.gaussian_process.kernels import RBF\n",
    "kernel = 1.0*RBF(1.0)\n",
    "gpc = GaussianProcessClassifier(kernel = kernel).fit(X_train,y_train)\n",
    "gpc.score(X_test,y_test)"
   ]
  },
  {
   "cell_type": "markdown",
   "metadata": {},
   "source": [
    "------\n",
    "### Classifier: Logistic Regression\n",
    "Logistic regression is a binary classfication method. Sigmoid function can map $[-\\infty, \\infty]$ to $[0,1]$, which is a deserved property of probability. Therefore:\n",
    "\\begin{equation}\n",
    "\\log\\Big( \\frac{p(x)}{1-p(x)} \\Big) = WX + b\n",
    "\\end{equation}\n",
    "\n",
    "\\begin{equation}\n",
    "p(x) = \\frac{1}{1+exp(-(WX + b))}\n",
    "\\end{equation}\n",
    "\n",
    "To find the optimal coefficients, we can use maximum likelihood estimates. The Log-likelihood is:\n",
    "\n",
    "\\begin{equation}\n",
    "\\mathcal{L} = \\sum_{i=1}^N y_i log p(x_i) + (1-y_i)log(1-p(x_i))\n",
    "\\end{equation}\n",
    "\n",
    "To find the ML estimates, we need to find $\\frac{\\partial\\mathcal{L}}{\\partial\\theta}=0$. However, this is a transcendental equation, we usually use numerical method to find the solution.\n",
    "\n",
    "#### example:"
   ]
  },
  {
   "cell_type": "code",
   "execution_count": 54,
   "metadata": {},
   "outputs": [
    {
     "name": "stderr",
     "output_type": "stream",
     "text": [
      "/home/williamliu/.local/lib/python3.6/site-packages/sklearn/linear_model/logistic.py:758: ConvergenceWarning: lbfgs failed to converge. Increase the number of iterations.\n",
      "  \"of iterations.\", ConvergenceWarning)\n"
     ]
    },
    {
     "data": {
      "text/plain": [
       "0.9396551724137931"
      ]
     },
     "execution_count": 54,
     "metadata": {},
     "output_type": "execute_result"
    }
   ],
   "source": [
    "from sklearn.linear_model import LogisticRegression\n",
    "\n",
    "clf = LogisticRegression(solver='lbfgs', multi_class='multinomial').fit(X_train,y_train)\n",
    "clf.score(X_test,y_test)"
   ]
  },
  {
   "cell_type": "code",
   "execution_count": null,
   "metadata": {},
   "outputs": [],
   "source": []
  }
 ],
 "metadata": {
  "kernelspec": {
   "display_name": "Python 3",
   "language": "python",
   "name": "python3"
  },
  "language_info": {
   "codemirror_mode": {
    "name": "ipython",
    "version": 3
   },
   "file_extension": ".py",
   "mimetype": "text/x-python",
   "name": "python",
   "nbconvert_exporter": "python",
   "pygments_lexer": "ipython3",
   "version": "3.6.5"
  }
 },
 "nbformat": 4,
 "nbformat_minor": 2
}
